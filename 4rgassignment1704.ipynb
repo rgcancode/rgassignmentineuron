{
 "cells": [
  {
   "cell_type": "code",
   "execution_count": null,
   "id": "7209edf7",
   "metadata": {},
   "outputs": [],
   "source": [
    "1. What exactly is []?\n",
    "Ans- Its a empty list value that has no value assigned."
   ]
  },
  {
   "cell_type": "code",
   "execution_count": null,
   "id": "39549aff",
   "metadata": {},
   "outputs": [],
   "source": [
    "2. In a list of values stored in a variable called spam, how would you assign the value 'hello' as the third value? \n",
    "(Assume [2, 4, 6, 8, 10] are in spam.)\n",
    "Ans- spam[2] = 'hello'"
   ]
  },
  {
   "cell_type": "code",
   "execution_count": 2,
   "id": "c97db596",
   "metadata": {},
   "outputs": [],
   "source": [
    "Let's pretend the spam includes the list ['a', 'b', 'c', 'd'] for the next three queries."
   ]
  },
  {
   "cell_type": "code",
   "execution_count": null,
   "id": "ce3efba3",
   "metadata": {},
   "outputs": [],
   "source": [
    "3. What is the value of spam[int(int('3' * 2) / 11)]?\n",
    "Ans- 'd'"
   ]
  },
  {
   "cell_type": "code",
   "execution_count": null,
   "id": "e9f69f93",
   "metadata": {},
   "outputs": [],
   "source": [
    "4. What is the value of spam[-1]?\n",
    "Ans- 'd'"
   ]
  },
  {
   "cell_type": "code",
   "execution_count": null,
   "id": "b1e47fa9",
   "metadata": {},
   "outputs": [],
   "source": [
    "5. What is the value of spam[:2]?\n",
    "Ans- ['a','b']"
   ]
  },
  {
   "cell_type": "code",
   "execution_count": null,
   "id": "402e4f07",
   "metadata": {},
   "outputs": [],
   "source": [
    "Let's pretend bacon has the list [3.14, 'cat,' 11, 'cat,' True] for the next three questions."
   ]
  },
  {
   "cell_type": "code",
   "execution_count": null,
   "id": "7cfbf733",
   "metadata": {},
   "outputs": [],
   "source": [
    "6. What is the value of bacon.index('cat')?\n",
    "Ans- 1"
   ]
  },
  {
   "cell_type": "code",
   "execution_count": null,
   "id": "b82174ba",
   "metadata": {},
   "outputs": [],
   "source": [
    "7. How does bacon.append(99) change the look of the list value in bacon?\n",
    "Ans- [3.14, 'cat,' 11, 'cat', True, 99]"
   ]
  },
  {
   "cell_type": "code",
   "execution_count": null,
   "id": "37ef0b47",
   "metadata": {},
   "outputs": [],
   "source": [
    "8. How does bacon.remove('cat') change the look of the list in bacon?\n",
    "Ans- [3.14, 11, True, 99]"
   ]
  },
  {
   "cell_type": "code",
   "execution_count": null,
   "id": "328eb978",
   "metadata": {},
   "outputs": [],
   "source": [
    "9. What are the list concatenation and list replication operators?\n",
    "Ans- The operator for list concatenation is +, while for replication is *"
   ]
  },
  {
   "cell_type": "code",
   "execution_count": null,
   "id": "0d063c13",
   "metadata": {},
   "outputs": [],
   "source": [
    "10. What is difference between the list methods append() and insert()?\n",
    "Ans- In list, append() will insert the value at the last index no. while insert() method will insert the value at \n",
    "desried index no. "
   ]
  },
  {
   "cell_type": "code",
   "execution_count": null,
   "id": "a57b1da4",
   "metadata": {},
   "outputs": [],
   "source": [
    "11. What are the two methods for removing items from a list?\n",
    "Ans- The two methods for removing items from a list are pop() and remove()"
   ]
  },
  {
   "cell_type": "code",
   "execution_count": null,
   "id": "1c03f533",
   "metadata": {},
   "outputs": [],
   "source": [
    "12. Describe how list values and string values are identical.\n",
    "Ans- The list & string both are used to store data/value & both are sequence."
   ]
  },
  {
   "cell_type": "code",
   "execution_count": null,
   "id": "049f4bc9",
   "metadata": {},
   "outputs": [],
   "source": [
    "13. What's the difference between tuples and lists?\n",
    "Ans- The List is mutable while tuple is immutable. Second difference is of notation, In list we use [] notation for store the values\n",
    "while () notation is used in tuple to store the values."
   ]
  },
  {
   "cell_type": "code",
   "execution_count": null,
   "id": "474c6799",
   "metadata": {},
   "outputs": [],
   "source": [
    "14. How do you type a tuple value that only contains the integer 42?\n",
    "Ans- tup = (42)"
   ]
  },
  {
   "cell_type": "code",
   "execution_count": null,
   "id": "3d7ac0de",
   "metadata": {},
   "outputs": [],
   "source": [
    "15. How do you get a list value's tuple form? How do you get a tuple value's list form?\n",
    "Ans- To get the list value's tuple form, use - list()\n",
    "To get the tuple value's lst form, use - tuple()"
   ]
  },
  {
   "cell_type": "code",
   "execution_count": null,
   "id": "239d42af",
   "metadata": {},
   "outputs": [],
   "source": [
    "16. Variables that \"contain\" list values are not necessarily lists themselves. Instead, what do they contain?\n",
    "Ans- In list, apart from values it can contain tuple, set as well as dictionary. "
   ]
  },
  {
   "cell_type": "code",
   "execution_count": null,
   "id": "56841b32",
   "metadata": {},
   "outputs": [],
   "source": [
    "17. How do you distinguish between copy.copy() and copy.deepcopy()?\n",
    "Ans- A deep copy is a process where we create a new object and add copy elements recursively."
   ]
  }
 ],
 "metadata": {
  "kernelspec": {
   "display_name": "Python 3 (ipykernel)",
   "language": "python",
   "name": "python3"
  },
  "language_info": {
   "codemirror_mode": {
    "name": "ipython",
    "version": 3
   },
   "file_extension": ".py",
   "mimetype": "text/x-python",
   "name": "python",
   "nbconvert_exporter": "python",
   "pygments_lexer": "ipython3",
   "version": "3.9.7"
  }
 },
 "nbformat": 4,
 "nbformat_minor": 5
}
