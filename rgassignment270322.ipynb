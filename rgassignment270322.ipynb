{
 "cells": [
  {
   "cell_type": "raw",
   "id": "9232843d",
   "metadata": {},
   "source": [
    "1. In the below elements which of them are values or an expression? eg:- values can be integer or string and expressions will be mathematical operators.\n",
    "* \n",
    "'hello'\n",
    "-87.8\n",
    "- \n",
    "/ \n",
    "+\t\n",
    "6 \n",
    "\n",
    "Ans- * = Expression\n",
    "' hello ' = value\n",
    "-87.8 = value\n",
    "- = expression\n",
    "/ = expression\n",
    "+ = expression\n",
    "6 = value"
   ]
  },
  {
   "cell_type": "raw",
   "id": "7b66c027",
   "metadata": {},
   "source": [
    "2. What is the difference between string and variable?\n",
    "\n",
    "Ans - String is a set of alphabets, numbers or any other characters while Variable is an allocated space either temporary or permanent where we can save our data. "
   ]
  },
  {
   "cell_type": "raw",
   "id": "aa06f820",
   "metadata": {},
   "source": [
    "3. Describe three different data types.\n",
    "\n",
    "Ans- Integer- It can be number.  \n",
    "String - It can be a set of words.  \n",
    "Boolean - It can be True or False."
   ]
  },
  {
   "cell_type": "raw",
   "id": "e31c1936",
   "metadata": {},
   "source": [
    "4. What is an expression made up of? What do all expressions do?\n",
    "\n",
    "Ans- An Expression is a combination of words, digits and operators that evaluates some other final value."
   ]
  },
  {
   "cell_type": "raw",
   "id": "7ec4d8c0",
   "metadata": {},
   "source": [
    "5. This assignment statements, like spam = 10. What is the difference between an expression and a statement?\n",
    "\n",
    "Ans - Expression is something that evaluates a value while statement is to creating a value or display something."
   ]
  },
  {
   "cell_type": "raw",
   "id": "c5f7dcd1",
   "metadata": {},
   "source": [
    "6. After running the following code, what does the variable bacon contain?\n",
    "bacon = 22\n",
    "bacon + 1\n",
    "\n",
    "Ans - 23"
   ]
  },
  {
   "cell_type": "raw",
   "id": "f083f3d0",
   "metadata": {},
   "source": [
    "7. What should the values of the following two terms be?\n",
    "'spam' + 'spamspam'\n",
    "'spam' * 3\n",
    "\n",
    "Ans - 'spam' + 'spamspam' = spamspamspam\n",
    "'spam' * 3 = spamspamspam"
   ]
  },
  {
   "cell_type": "raw",
   "id": "56853069",
   "metadata": {},
   "source": [
    "8. Why is eggs a valid variable name while 100 is invalid?\n",
    "\n",
    "Ans - eggs is a valid varible because it is nowhere predined and can be put any value in this but 100 is predined int. "
   ]
  },
  {
   "cell_type": "raw",
   "id": "26ea268a",
   "metadata": {},
   "source": [
    "9. What three functions can be used to get the integer, floating-point number, or string version of a value?\n",
    "\n",
    "Ans - For integer, we will use int()\n",
    "For Floating-point number, we will use float()\n",
    "Fot String, we will use str()"
   ]
  },
  {
   "cell_type": "raw",
   "id": "e7351c17",
   "metadata": {},
   "source": [
    "10. Why does this expression cause an error? How can you fix it?\n",
    "'I have eaten ' + 99 + ' burritos.'\n",
    "\n",
    "Ans - Because in this we are using addition operator between string and number.\n",
    "\n",
    "For Fix It - 'I have eaten ' + '99' + ' burritos.'"
   ]
  }
 ],
 "metadata": {
  "kernelspec": {
   "display_name": "Python 3 (ipykernel)",
   "language": "python",
   "name": "python3"
  },
  "language_info": {
   "codemirror_mode": {
    "name": "ipython",
    "version": 3
   },
   "file_extension": ".py",
   "mimetype": "text/x-python",
   "name": "python",
   "nbconvert_exporter": "python",
   "pygments_lexer": "ipython3",
   "version": "3.9.7"
  }
 },
 "nbformat": 4,
 "nbformat_minor": 5
}
