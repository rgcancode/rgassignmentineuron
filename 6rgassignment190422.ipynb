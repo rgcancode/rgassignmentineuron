{
 "cells": [
  {
   "cell_type": "code",
   "execution_count": null,
   "id": "82fea276",
   "metadata": {},
   "outputs": [],
   "source": [
    "1. What are escape characters, and how do you use them?\n",
    "Ans- An escape character is a backlash(\\) followed by the character that you want to insert.\n",
    "t = \"My name is \\\"Rahul Gupta\\\"\""
   ]
  },
  {
   "cell_type": "code",
   "execution_count": null,
   "id": "857fc046",
   "metadata": {},
   "outputs": [],
   "source": [
    "2. What do the escape characters n and t stand for?\n",
    "Ans- \\n = New Line\n",
    "     \\t = tab  "
   ]
  },
  {
   "cell_type": "code",
   "execution_count": null,
   "id": "742d25a1",
   "metadata": {},
   "outputs": [],
   "source": [
    "3. What is the way to include backslash characters in a string?\n",
    "Ans- strr = \"I am learning \\t\\\"PYTHON\\\"\\t for \\\"Machine Learning\\\"\"\n",
    "print(strr)"
   ]
  },
  {
   "cell_type": "code",
   "execution_count": 1,
   "id": "34e292e5",
   "metadata": {},
   "outputs": [],
   "source": [
    "4. The string \"Howl's Moving Castle\" is a correct value. Why isn't the single quote character in the word Howl's \n",
    "not escaped a problem?\n",
    "Ans- The single quote character in the word Howl's is not showing the problem because you have used double quote at the\n",
    "beginning and same quote at the end of the string."
   ]
  },
  {
   "cell_type": "code",
   "execution_count": null,
   "id": "b2394ce9",
   "metadata": {},
   "outputs": [],
   "source": [
    "5. How do you write a string of newlines if you don't want to use the n character?\n",
    "Ans- print(\"hello\")\n",
    "print(\"Rahul\")"
   ]
  },
  {
   "cell_type": "code",
   "execution_count": null,
   "id": "af4ed440",
   "metadata": {},
   "outputs": [],
   "source": [
    "6. What are the values of the given expressions?\n",
    "'Hello, world!'[1]\n",
    "'Hello, world!'[0:5]\n",
    "'Hello, world!'[:5]\n",
    "'Hello, world!'[3:]\n",
    "Ans- \n",
    "    INPUT                  OUTPUT\n",
    "'Hello, world!'[1]            'e'\n",
    "'Hello, world!'[0:5]          'Hello'\n",
    "'Hello, world!'[:5]            'Hello'\n",
    "'Hello, world!'[3:]             'lo, world!'"
   ]
  },
  {
   "cell_type": "code",
   "execution_count": null,
   "id": "2915848a",
   "metadata": {},
   "outputs": [],
   "source": [
    "7. What are the values of the following expressions?\n",
    "'Hello'.upper()\n",
    "'Hello'.upper().isupper()\n",
    "'Hello'.upper().lower()\n",
    "Ans-\n",
    "    INPUT                                OUTPUT\n",
    "'Hello'.upper()                           'HELLO'\n",
    "'Hello'.upper().isupper()                  TRUE\n",
    "'Hello'.upper().lower()                    FALSE\n"
   ]
  },
  {
   "cell_type": "code",
   "execution_count": null,
   "id": "0d606e17",
   "metadata": {},
   "outputs": [],
   "source": [
    "8. What are the values of the following expressions?\n",
    "'Remember, remember, the fifth of July.'.split()\n",
    "'-'.join('There can only one.'.split())\n",
    "Ans- \n",
    "     INPUT                                                           OUTPUT\n",
    "    'Remember, remember, the fifth of July.'.split()                ['Remember,', 'remember,', 'the', 'fifth', 'of', 'July.']\n",
    "    '-'.join('There can only one.'.split())                          'There-can-only-one.'"
   ]
  },
  {
   "cell_type": "code",
   "execution_count": null,
   "id": "915f1c85",
   "metadata": {},
   "outputs": [],
   "source": [
    "9. What are the methods for right-justifying, left-justifying, and centering a string?\n",
    "Ans- right-justifying - rjust()\n",
    "left-justifying - ljust()\n",
    "centering - center()"
   ]
  },
  {
   "cell_type": "code",
   "execution_count": null,
   "id": "008958a3",
   "metadata": {},
   "outputs": [],
   "source": [
    "10. What is the best way to remove whitespace characters from the start or end?\n",
    "Ans- The lstrip() and rstrip() are the best way to remove whitespace from start or end."
   ]
  }
 ],
 "metadata": {
  "kernelspec": {
   "display_name": "Python 3 (ipykernel)",
   "language": "python",
   "name": "python3"
  },
  "language_info": {
   "codemirror_mode": {
    "name": "ipython",
    "version": 3
   },
   "file_extension": ".py",
   "mimetype": "text/x-python",
   "name": "python",
   "nbconvert_exporter": "python",
   "pygments_lexer": "ipython3",
   "version": "3.9.7"
  }
 },
 "nbformat": 4,
 "nbformat_minor": 5
}
