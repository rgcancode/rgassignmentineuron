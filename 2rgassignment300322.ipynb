{
 "cells": [
  {
   "cell_type": "code",
   "execution_count": null,
   "id": "55aa0b84",
   "metadata": {},
   "outputs": [],
   "source": [
    "1.What are the two values of the Boolean data type? How do you write them?\n",
    "\n",
    "Ans - Two values of Boolean Data Type are True & False\n",
    "\n",
    "a = True\n",
    "b = False"
   ]
  },
  {
   "cell_type": "code",
   "execution_count": null,
   "id": "9f409ca7",
   "metadata": {},
   "outputs": [],
   "source": [
    "2. What are the three different types of Boolean operators?\n",
    "\n",
    "Ans - The three types of Boolean Operators are AND, OR & NOT. "
   ]
  },
  {
   "cell_type": "code",
   "execution_count": null,
   "id": "3d94d75d",
   "metadata": {},
   "outputs": [],
   "source": [
    "3. Make a list of each Boolean operator's truth tables (i.e. every possible combination of Boolean values for the operator and what it evaluate ).\n",
    "\n",
    "Ans - A         B          A AND B\n",
    "     TRUE      TRUE         TRUE\n",
    "     TRUE      FALSE        FALSE\n",
    "     FALSE     TRUE         FALSE\n",
    "     FALSE     FALSE        FALSE \n",
    "     \n",
    "     \n",
    "     A           B           A OR B\n",
    "     TRUE       FALSE         TRUE\n",
    "     FALSE      TRUE          TRUE\n",
    "     TRUE       TRUE          TRUE\n",
    "     FALSE      FALSE         FALSE\n",
    "     \n",
    "     \n",
    "     A           NOT A\n",
    "     TRUE        FALSE\n",
    "     FALSE       TRUE"
   ]
  },
  {
   "cell_type": "code",
   "execution_count": null,
   "id": "28c267f8",
   "metadata": {},
   "outputs": [],
   "source": [
    "4. What are the values of the following expressions?\n",
    "(5 > 4) and (3 == 5)\n",
    "not (5 > 4)\n",
    "(5 > 4) or (3 == 5)\n",
    "not ((5 > 4) or (3 == 5))\n",
    "(True and True) and (True == False)\n",
    "(not False) or (not True)\n",
    "\n",
    "Ans -  \n",
    "(5 > 4) and (3 == 5) - FALSE\n",
    "not (5 > 4) - FALSE\n",
    "(5 > 4) or (3 == 5) - TRUE\n",
    "not ((5 > 4) or (3 == 5)) - FALSE\n",
    "(True and True) and (True == False) - FALSE\n",
    "(not False) or (not True) - TRUE\n"
   ]
  },
  {
   "cell_type": "code",
   "execution_count": null,
   "id": "21fae163",
   "metadata": {},
   "outputs": [],
   "source": [
    "5. What are the six comparison operators?\n",
    "\n",
    "Ans - The six comaprison operators are as follows:-\n",
    "\n",
    "equal to ==,\n",
    "greater than >,\n",
    "lesser than <,\n",
    "greater than or equal to >=,\n",
    "lesser than or equal to <=,\n",
    "not equal to !="
   ]
  },
  {
   "cell_type": "code",
   "execution_count": null,
   "id": "5b7ef959",
   "metadata": {},
   "outputs": [],
   "source": [
    "6. How do you tell the difference between the equal to and assignment operators?Describe a condition and when you would use one.\n",
    "\n",
    "Ans - Equal operator means when you are comparing the two values such as a==b, while assignment operators means you are allocating some value to some variable such as a = 1."
   ]
  },
  {
   "cell_type": "code",
   "execution_count": null,
   "id": "8ed2cc30",
   "metadata": {},
   "outputs": [],
   "source": [
    "7. Identify the three blocks in this code:\n",
    "spam = 0\n",
    "if spam == 10:\n",
    "print('eggs')\n",
    "if spam > 5:\n",
    "print('bacon')\n",
    "else:\n",
    "print('ham')\n",
    "print('spam')\n",
    "print('spam')\n",
    "\n",
    "Ans - \n",
    "spam = 0\n",
    "if spam == 10:\n",
    "    print(\"eggs\")\n",
    "if spam > 5:\n",
    "    print('bacon')\n",
    "else:\n",
    "    print('ham')\n",
    "    print('spam')\n",
    "    print('spam')"
   ]
  },
  {
   "cell_type": "code",
   "execution_count": null,
   "id": "610a6bc1",
   "metadata": {},
   "outputs": [],
   "source": [
    "8. Write code that prints Hello if 1 is stored in spam, prints Howdy if 2 is stored in spam, and prints Greetings! if anything else is stored in spam.\n",
    "\n",
    "Ans - \n",
    "spam = 0\n",
    "if spam == 1:\n",
    "        print(\"Hello\")\n",
    "elif spam == 2:\n",
    "        print(\"Howdy\")\n",
    "else:\n",
    "        print(\"Greetings!\")"
   ]
  },
  {
   "cell_type": "code",
   "execution_count": null,
   "id": "0749d0fa",
   "metadata": {},
   "outputs": [],
   "source": [
    "9.If your programme is stuck in an endless loop, what keys you’ll press?\n",
    "\n",
    "Ans - Ctrl + C"
   ]
  },
  {
   "cell_type": "code",
   "execution_count": null,
   "id": "56b8c4d6",
   "metadata": {},
   "outputs": [],
   "source": [
    "10. How can you tell the difference between break and continue?\n",
    "\n",
    "Ans - The difference between the Break & Continue statement is \"loop terminate\"."
   ]
  },
  {
   "cell_type": "code",
   "execution_count": null,
   "id": "0928e807",
   "metadata": {},
   "outputs": [],
   "source": [
    "11. In a for loop, what is the difference between range(10), range(0, 10), and range(0, 10, 1)?\n",
    "\n",
    "Ans - range(10) : It is only showing the end value of the loop, and by default it will start from 0.\n",
    "      range(0, 10) : Here, O refers start value and 10 refers end value of range.\n",
    "      range(0, 10, 1) : Here it will start from 0 and end at 10 with a jump of 1."
   ]
  },
  {
   "cell_type": "code",
   "execution_count": null,
   "id": "2b269896",
   "metadata": {},
   "outputs": [],
   "source": [
    "12. Write a short program that prints the numbers 1 to 10 using a for loop. Then write an equivalent program that prints the numbers 1 to 10 using a while loop.\n",
    "\n",
    "Ans - \n",
    "for i in range(1,11):\n",
    "    print(i)\n",
    "__________________________________________________    \n",
    "i = 1\n",
    "while i < 11:\n",
    "    print(i)\n",
    "    i = i + 1        "
   ]
  },
  {
   "cell_type": "code",
   "execution_count": null,
   "id": "b6aeef78",
   "metadata": {},
   "outputs": [],
   "source": [
    "13. If you had a function named bacon() inside a module named spam, how would you call it after importing spam?\n",
    "\n",
    "Ans - spam.bacon()"
   ]
  }
 ],
 "metadata": {
  "kernelspec": {
   "display_name": "Python 3 (ipykernel)",
   "language": "python",
   "name": "python3"
  },
  "language_info": {
   "codemirror_mode": {
    "name": "ipython",
    "version": 3
   },
   "file_extension": ".py",
   "mimetype": "text/x-python",
   "name": "python",
   "nbconvert_exporter": "python",
   "pygments_lexer": "ipython3",
   "version": "3.9.7"
  }
 },
 "nbformat": 4,
 "nbformat_minor": 5
}
