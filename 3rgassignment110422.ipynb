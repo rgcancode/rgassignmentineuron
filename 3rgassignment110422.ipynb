{
 "cells": [
  {
   "cell_type": "code",
   "execution_count": null,
   "id": "c7729d52",
   "metadata": {},
   "outputs": [],
   "source": [
    "1. Why are functions advantageous to have in your programs?\n",
    "Ans- In Program, Functions are very advantageous beacuse in functions we can set/write some sort of coding or programming \n",
    "that we can use in any part of programming just by call the function and execute the code within that function.\n"
   ]
  },
  {
   "cell_type": "code",
   "execution_count": null,
   "id": "15dab2d3",
   "metadata": {},
   "outputs": [],
   "source": [
    "2. When does the code in a function run: when it's specified or when it's called?\n",
    "Ans- The function run when it's called in any part of programming."
   ]
  },
  {
   "cell_type": "code",
   "execution_count": null,
   "id": "9acd5228",
   "metadata": {},
   "outputs": [],
   "source": [
    "3. What statement creates a function?\n",
    "Ans- def"
   ]
  },
  {
   "cell_type": "code",
   "execution_count": null,
   "id": "6c07e141",
   "metadata": {},
   "outputs": [],
   "source": [
    "4. What is the difference between a function and a function call?\n",
    "Ans- Function is to set of code that return the result while Function call is used to call the defined function and get the output."
   ]
  },
  {
   "cell_type": "code",
   "execution_count": null,
   "id": "afffebc3",
   "metadata": {},
   "outputs": [],
   "source": [
    "5. How many global scopes are there in a Python program? How many local scopes?\n",
    "Ans- Global scope can be 1 only and it created in the main body of the python while local scope can be any number that defined in every function and \n",
    "can called only within that function."
   ]
  },
  {
   "cell_type": "code",
   "execution_count": null,
   "id": "a90e12b0",
   "metadata": {},
   "outputs": [],
   "source": [
    "6. What happens to variables in a local scope when the function call returns?\n",
    "Ans- A variable has no identity outside that function and that variable can be defined to assigned other value when use\n",
    "outside that function."
   ]
  },
  {
   "cell_type": "code",
   "execution_count": null,
   "id": "b08b2632",
   "metadata": {},
   "outputs": [],
   "source": [
    "7. What is the concept of a return value? Is it possible to have a return value in an expression?\n",
    "Ans- The return value is return the output with auto find the data type of that output. No, it is not possible to have a \n",
    "return value in an expression."
   ]
  },
  {
   "cell_type": "code",
   "execution_count": null,
   "id": "695127e7",
   "metadata": {},
   "outputs": [],
   "source": [
    "8. If a function does not have a return statement, what is the return value of a call to that function?\n",
    "Ans- If a Function doesn't have a return statement then when we call the function the code will execute within the function but \n",
    "not present any output."
   ]
  },
  {
   "cell_type": "code",
   "execution_count": null,
   "id": "8c179a2b",
   "metadata": {},
   "outputs": [],
   "source": [
    "9. How do you make a function variable refer to the global variable?\n",
    "Ans- We can make a function variable refer to the global variable by assign the global varibale outside function i.e., \n",
    "created the global variable in the main body of Python."
   ]
  },
  {
   "cell_type": "code",
   "execution_count": null,
   "id": "41877de4",
   "metadata": {},
   "outputs": [],
   "source": [
    "10. What is the data type of None?\n",
    "Ans- The data type of None is None data type."
   ]
  },
  {
   "cell_type": "code",
   "execution_count": null,
   "id": "104f4e28",
   "metadata": {},
   "outputs": [],
   "source": [
    "11. What does the sentence import areallyourpetsnamederic do?\n",
    "Ans- It will import the module areallyourpetsnamederic."
   ]
  },
  {
   "cell_type": "code",
   "execution_count": null,
   "id": "a9dd6781",
   "metadata": {},
   "outputs": [],
   "source": [
    "12. If you had a bacon() feature in a spam module, what would you call it after importing spam?\n",
    "Ans- spam.bacon()"
   ]
  },
  {
   "cell_type": "code",
   "execution_count": null,
   "id": "b064fa2e",
   "metadata": {},
   "outputs": [],
   "source": [
    "13. What can you do to save a programme from crashing if it encounters an error?\n",
    "Ans- By defining the program in between try and except statement."
   ]
  },
  {
   "cell_type": "code",
   "execution_count": null,
   "id": "719a605f",
   "metadata": {},
   "outputs": [],
   "source": [
    "14. What is the purpose of the try clause? What is the purpose of the except clause?\n",
    "Ans- The try allows you to test a code for errors while except clause enables us to handle the error"
   ]
  }
 ],
 "metadata": {
  "kernelspec": {
   "display_name": "Python 3 (ipykernel)",
   "language": "python",
   "name": "python3"
  },
  "language_info": {
   "codemirror_mode": {
    "name": "ipython",
    "version": 3
   },
   "file_extension": ".py",
   "mimetype": "text/x-python",
   "name": "python",
   "nbconvert_exporter": "python",
   "pygments_lexer": "ipython3",
   "version": "3.9.7"
  }
 },
 "nbformat": 4,
 "nbformat_minor": 5
}
